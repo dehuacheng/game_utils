{
 "cells": [
  {
   "cell_type": "code",
   "execution_count": 1,
   "metadata": {},
   "outputs": [
    {
     "data": {
      "application/javascript": [
       "\n",
       "            setTimeout(function() {\n",
       "                var nbb_cell_id = 1;\n",
       "                var nbb_unformatted_code = \"%load_ext nb_black\";\n",
       "                var nbb_formatted_code = \"%load_ext nb_black\";\n",
       "                var nbb_cells = Jupyter.notebook.get_cells();\n",
       "                for (var i = 0; i < nbb_cells.length; ++i) {\n",
       "                    if (nbb_cells[i].input_prompt_number == nbb_cell_id) {\n",
       "                        if (nbb_cells[i].get_text() == nbb_unformatted_code) {\n",
       "                             nbb_cells[i].set_text(nbb_formatted_code);\n",
       "                        }\n",
       "                        break;\n",
       "                    }\n",
       "                }\n",
       "            }, 500);\n",
       "            "
      ],
      "text/plain": [
       "<IPython.core.display.Javascript object>"
      ]
     },
     "metadata": {},
     "output_type": "display_data"
    }
   ],
   "source": [
    "%load_ext nb_black"
   ]
  },
  {
   "cell_type": "markdown",
   "metadata": {},
   "source": [
    "source：\n",
    "1. Reddit, Analysing 2650 Artifacts and their Main/Sub stat distributions. [Data compiled from user submissions led by /u/Acheron-X]， https://www.reddit.com/r/Genshin_Impact/comments/kn0r0s/analysing_2650_artifacts_and_their_mainsub_stat/\n",
    "2. NGA, [数据讨论]《圣遗物数值学导论》 https://nga.178.com/read.php?tid=24270728"
   ]
  },
  {
   "cell_type": "code",
   "execution_count": 2,
   "metadata": {},
   "outputs": [
    {
     "data": {
      "application/javascript": [
       "\n",
       "            setTimeout(function() {\n",
       "                var nbb_cell_id = 2;\n",
       "                var nbb_unformatted_code = \"import numpy as np\\nfrom enum import Enum\\nfrom collections import namedtuple\\nfrom tqdm import tqdm\\n\\n\\nclass Stat(int, Enum):\\n    DEF = 1\\n    ATK = 2\\n    HP = 3\\n    ATK_PCT = 4\\n    HP_PCT = 5\\n    DEF_PCT = 6\\n    EM = 7\\n    ER = 8\\n    #  correct elem damage pcts\\n    ED = 9\\n    # unwanted elem damage pcts\\n    ED_OTHER = 10\\n    #  Phys damage pcts\\n    PD = 11\\n    # heal bonus pcts\\n    HB = 12\\n    CR = 13\\n    CD = 14\\n\\n\\nclass ArtifactType(int, Enum):\\n    FLOWER = 101\\n    FEATHER = 102\\n    SANDS = 103\\n    GOBLET = 104\\n    CIRCLET = 105\\n\\n\\nmain_stat_max = {\\n    Stat.ATK: 322,\\n    Stat.HP: 4780,\\n    Stat.ATK_PCT: 46.6,\\n    Stat.HP_PCT: 46.6,\\n    Stat.DEF_PCT: 58.3,\\n    Stat.EM: 187,\\n    Stat.ER: 51.8,\\n    Stat.ED: 46.6,\\n    Stat.ED_OTHER: 46.6,\\n    Stat.PD: 58.3,\\n    Stat.HB: 35.9,\\n    Stat.CR: 31.1,\\n    Stat.CD: 62.2,\\n}\\n\\nsub_stat_ranges = {\\n    Stat.DEF: [16, 19, 21, 23],\\n    Stat.ATK: [14, 16, 18, 19],\\n    Stat.HP: [209, 239, 269, 299],\\n    Stat.ATK_PCT: [4.1, 4.7, 5.3, 5.8],\\n    Stat.HP_PCT: [4.1, 4.7, 5.3, 5.8],\\n    Stat.DEF_PCT: [5.1, 5.8, 6.6, 7.3],\\n    Stat.EM: [16, 19, 21, 23],\\n    Stat.ER: [4.5, 5.2, 5.8, 6.5],\\n    Stat.CR: [2.7, 3.1, 3.5, 3.9],\\n    Stat.CD: [5.4, 6.2, 7.0, 7.9],\\n}\\n\\n\\nstats_name = {\\n    \\\"CN\\\": {\\n        Stat.ATK: \\\"\\u653b\\u51fb\\u529b\\\",\\n        Stat.HP: \\\"\\u751f\\u547d\\u503c\\\",\\n        Stat.DEF: \\\"\\u9632\\u5fa1\\u529b\\\",\\n        Stat.ATK_PCT: \\\"\\u653b\\u51fb\\u529b%\\\",\\n        Stat.HP_PCT: \\\"\\u751f\\u547d\\u503c%\\\",\\n        Stat.DEF_PCT: \\\"\\u9632\\u5fa1\\u529b%\\\",\\n        Stat.EM: \\\"\\u5143\\u7d20\\u7cbe\\u901a\\\",\\n        Stat.ER: \\\"\\u5143\\u7d20\\u5145\\u80fd%\\\",\\n        Stat.ED: \\\"\\u5143\\u7d20\\u4f24\\u5bb3%\\\",\\n        Stat.ED_OTHER: \\\"\\u5143\\u7d20\\u4f24\\u5bb3%\\uff08\\u6b6a\\uff09\\\",\\n        Stat.PD: \\\"\\u7269\\u7406\\u4f24\\u5bb3%\\\",\\n        Stat.HB: \\\"\\u6cbb\\u7597\\u52a0\\u6210%\\\",\\n        Stat.CR: \\\"\\u66b4\\u51fb\\u7387%\\\",\\n        Stat.CD: \\\"\\u66b4\\u51fb\\u4f24\\u5bb3%\\\",\\n        ArtifactType.FLOWER: \\\"\\u751f\\u4e4b\\u82b1\\\",\\n        ArtifactType.FEATHER: \\\"\\u6b7b\\u4e4b\\u7fbd\\\",\\n        ArtifactType.SANDS: \\\"\\u65f6\\u4e4b\\u6c99\\\",\\n        ArtifactType.GOBLET: \\\"\\u7a7a\\u4e4b\\u676f\\\",\\n        ArtifactType.CIRCLET: \\\"\\u7406\\u4e4b\\u51a0\\\",\\n    }\\n}\";\n",
       "                var nbb_formatted_code = \"import numpy as np\\nfrom enum import Enum\\nfrom collections import namedtuple\\nfrom tqdm import tqdm\\n\\n\\nclass Stat(int, Enum):\\n    DEF = 1\\n    ATK = 2\\n    HP = 3\\n    ATK_PCT = 4\\n    HP_PCT = 5\\n    DEF_PCT = 6\\n    EM = 7\\n    ER = 8\\n    #  correct elem damage pcts\\n    ED = 9\\n    # unwanted elem damage pcts\\n    ED_OTHER = 10\\n    #  Phys damage pcts\\n    PD = 11\\n    # heal bonus pcts\\n    HB = 12\\n    CR = 13\\n    CD = 14\\n\\n\\nclass ArtifactType(int, Enum):\\n    FLOWER = 101\\n    FEATHER = 102\\n    SANDS = 103\\n    GOBLET = 104\\n    CIRCLET = 105\\n\\n\\nmain_stat_max = {\\n    Stat.ATK: 322,\\n    Stat.HP: 4780,\\n    Stat.ATK_PCT: 46.6,\\n    Stat.HP_PCT: 46.6,\\n    Stat.DEF_PCT: 58.3,\\n    Stat.EM: 187,\\n    Stat.ER: 51.8,\\n    Stat.ED: 46.6,\\n    Stat.ED_OTHER: 46.6,\\n    Stat.PD: 58.3,\\n    Stat.HB: 35.9,\\n    Stat.CR: 31.1,\\n    Stat.CD: 62.2,\\n}\\n\\nsub_stat_ranges = {\\n    Stat.DEF: [16, 19, 21, 23],\\n    Stat.ATK: [14, 16, 18, 19],\\n    Stat.HP: [209, 239, 269, 299],\\n    Stat.ATK_PCT: [4.1, 4.7, 5.3, 5.8],\\n    Stat.HP_PCT: [4.1, 4.7, 5.3, 5.8],\\n    Stat.DEF_PCT: [5.1, 5.8, 6.6, 7.3],\\n    Stat.EM: [16, 19, 21, 23],\\n    Stat.ER: [4.5, 5.2, 5.8, 6.5],\\n    Stat.CR: [2.7, 3.1, 3.5, 3.9],\\n    Stat.CD: [5.4, 6.2, 7.0, 7.9],\\n}\\n\\n\\nstats_name = {\\n    \\\"CN\\\": {\\n        Stat.ATK: \\\"\\u653b\\u51fb\\u529b\\\",\\n        Stat.HP: \\\"\\u751f\\u547d\\u503c\\\",\\n        Stat.DEF: \\\"\\u9632\\u5fa1\\u529b\\\",\\n        Stat.ATK_PCT: \\\"\\u653b\\u51fb\\u529b%\\\",\\n        Stat.HP_PCT: \\\"\\u751f\\u547d\\u503c%\\\",\\n        Stat.DEF_PCT: \\\"\\u9632\\u5fa1\\u529b%\\\",\\n        Stat.EM: \\\"\\u5143\\u7d20\\u7cbe\\u901a\\\",\\n        Stat.ER: \\\"\\u5143\\u7d20\\u5145\\u80fd%\\\",\\n        Stat.ED: \\\"\\u5143\\u7d20\\u4f24\\u5bb3%\\\",\\n        Stat.ED_OTHER: \\\"\\u5143\\u7d20\\u4f24\\u5bb3%\\uff08\\u6b6a\\uff09\\\",\\n        Stat.PD: \\\"\\u7269\\u7406\\u4f24\\u5bb3%\\\",\\n        Stat.HB: \\\"\\u6cbb\\u7597\\u52a0\\u6210%\\\",\\n        Stat.CR: \\\"\\u66b4\\u51fb\\u7387%\\\",\\n        Stat.CD: \\\"\\u66b4\\u51fb\\u4f24\\u5bb3%\\\",\\n        ArtifactType.FLOWER: \\\"\\u751f\\u4e4b\\u82b1\\\",\\n        ArtifactType.FEATHER: \\\"\\u6b7b\\u4e4b\\u7fbd\\\",\\n        ArtifactType.SANDS: \\\"\\u65f6\\u4e4b\\u6c99\\\",\\n        ArtifactType.GOBLET: \\\"\\u7a7a\\u4e4b\\u676f\\\",\\n        ArtifactType.CIRCLET: \\\"\\u7406\\u4e4b\\u51a0\\\",\\n    }\\n}\";\n",
       "                var nbb_cells = Jupyter.notebook.get_cells();\n",
       "                for (var i = 0; i < nbb_cells.length; ++i) {\n",
       "                    if (nbb_cells[i].input_prompt_number == nbb_cell_id) {\n",
       "                        if (nbb_cells[i].get_text() == nbb_unformatted_code) {\n",
       "                             nbb_cells[i].set_text(nbb_formatted_code);\n",
       "                        }\n",
       "                        break;\n",
       "                    }\n",
       "                }\n",
       "            }, 500);\n",
       "            "
      ],
      "text/plain": [
       "<IPython.core.display.Javascript object>"
      ]
     },
     "metadata": {},
     "output_type": "display_data"
    }
   ],
   "source": [
    "import numpy as np\n",
    "from enum import Enum\n",
    "from collections import namedtuple\n",
    "from tqdm import tqdm\n",
    "\n",
    "\n",
    "class Stat(int, Enum):\n",
    "    DEF = 1\n",
    "    ATK = 2\n",
    "    HP = 3\n",
    "    ATK_PCT = 4\n",
    "    HP_PCT = 5\n",
    "    DEF_PCT = 6\n",
    "    EM = 7\n",
    "    ER = 8\n",
    "    #  correct elem damage pcts\n",
    "    ED = 9\n",
    "    # unwanted elem damage pcts\n",
    "    ED_OTHER = 10\n",
    "    #  Phys damage pcts\n",
    "    PD = 11\n",
    "    # heal bonus pcts\n",
    "    HB = 12\n",
    "    CR = 13\n",
    "    CD = 14\n",
    "\n",
    "\n",
    "class ArtifactType(int, Enum):\n",
    "    FLOWER = 101\n",
    "    FEATHER = 102\n",
    "    SANDS = 103\n",
    "    GOBLET = 104\n",
    "    CIRCLET = 105\n",
    "\n",
    "\n",
    "main_stat_max = {\n",
    "    Stat.ATK: 322,\n",
    "    Stat.HP: 4780,\n",
    "    Stat.ATK_PCT: 46.6,\n",
    "    Stat.HP_PCT: 46.6,\n",
    "    Stat.DEF_PCT: 58.3,\n",
    "    Stat.EM: 187,\n",
    "    Stat.ER: 51.8,\n",
    "    Stat.ED: 46.6,\n",
    "    Stat.ED_OTHER: 46.6,\n",
    "    Stat.PD: 58.3,\n",
    "    Stat.HB: 35.9,\n",
    "    Stat.CR: 31.1,\n",
    "    Stat.CD: 62.2,\n",
    "}\n",
    "\n",
    "sub_stat_ranges = {\n",
    "    Stat.DEF: [16, 19, 21, 23],\n",
    "    Stat.ATK: [14, 16, 18, 19],\n",
    "    Stat.HP: [209, 239, 269, 299],\n",
    "    Stat.ATK_PCT: [4.1, 4.7, 5.3, 5.8],\n",
    "    Stat.HP_PCT: [4.1, 4.7, 5.3, 5.8],\n",
    "    Stat.DEF_PCT: [5.1, 5.8, 6.6, 7.3],\n",
    "    Stat.EM: [16, 19, 21, 23],\n",
    "    Stat.ER: [4.5, 5.2, 5.8, 6.5],\n",
    "    Stat.CR: [2.7, 3.1, 3.5, 3.9],\n",
    "    Stat.CD: [5.4, 6.2, 7.0, 7.9],\n",
    "}\n",
    "\n",
    "\n",
    "stats_name = {\n",
    "    \"CN\": {\n",
    "        Stat.ATK: \"攻击力\",\n",
    "        Stat.HP: \"生命值\",\n",
    "        Stat.DEF: \"防御力\",\n",
    "        Stat.ATK_PCT: \"攻击力%\",\n",
    "        Stat.HP_PCT: \"生命值%\",\n",
    "        Stat.DEF_PCT: \"防御力%\",\n",
    "        Stat.EM: \"元素精通\",\n",
    "        Stat.ER: \"元素充能%\",\n",
    "        Stat.ED: \"元素伤害%\",\n",
    "        Stat.ED_OTHER: \"元素伤害%（歪）\",\n",
    "        Stat.PD: \"物理伤害%\",\n",
    "        Stat.HB: \"治疗加成%\",\n",
    "        Stat.CR: \"暴击率%\",\n",
    "        Stat.CD: \"暴击伤害%\",\n",
    "        ArtifactType.FLOWER: \"生之花\",\n",
    "        ArtifactType.FEATHER: \"死之羽\",\n",
    "        ArtifactType.SANDS: \"时之沙\",\n",
    "        ArtifactType.GOBLET: \"空之杯\",\n",
    "        ArtifactType.CIRCLET: \"理之冠\",\n",
    "    }\n",
    "}"
   ]
  },
  {
   "cell_type": "markdown",
   "metadata": {},
   "source": [
    "## Replace the default numbers with your estimation"
   ]
  },
  {
   "cell_type": "code",
   "execution_count": 3,
   "metadata": {},
   "outputs": [
    {
     "data": {
      "application/javascript": [
       "\n",
       "            setTimeout(function() {\n",
       "                var nbb_cell_id = 3;\n",
       "                var nbb_unformatted_code = \"# initialize parameters on drop rate, main/sub-stats distribution etc\\n# most numbers here are based on estimation/guess\\n\\n\\n# the pdf for the number of level 5 artifact per run\\ndefault_num_lvl5_pdf = {\\n    1: 0.9,\\n    2: 0.1,\\n}\\n\\n# the probability of an artifact with 3 initial substats\\ndefault_p_substat_cnt_3 = 0.8\\n\\n# the probability of dropping the correct set\\np_correct_set = 0.5\\n\\n# the pdf for the artifact type\\ndefault_artifact_type_pdf = {\\n    ArtifactType.FLOWER: 0.2,\\n    ArtifactType.FEATHER: 0.2,\\n    ArtifactType.SANDS: 0.2,\\n    ArtifactType.GOBLET: 0.2,\\n    ArtifactType.CIRCLET: 0.2,\\n}\\n\\n# ratio between different substats\\ndefault_substat_pdf = {\\n    Stat.DEF: 0.15,\\n    Stat.ATK: 0.15,\\n    Stat.HP: 0.15,\\n    Stat.ATK_PCT: 0.1,\\n    Stat.HP_PCT: 0.1,\\n    Stat.DEF_PCT: 0.1,\\n    Stat.EM: 0.09,\\n    Stat.ER: 0.09,\\n    Stat.CR: 0.08,\\n    Stat.CD: 0.08,\\n}\\n\\n# main stat distribution for each type of artifact\\nmain_stats_pdfs = {\\n    ArtifactType.FLOWER: {Stat.HP: 1.0},\\n    ArtifactType.FEATHER: {Stat.ATK: 1.0},\\n    ArtifactType.SANDS: {\\n        Stat.HP_PCT: 0.28,\\n        Stat.DEF_PCT: 0.28,\\n        Stat.ATK_PCT: 0.25,\\n        Stat.EM: 0.10,\\n        Stat.ER: 0.09,\\n    },\\n    ArtifactType.GOBLET: {\\n        Stat.HP_PCT: 0.19,\\n        Stat.DEF_PCT: 0.21,\\n        Stat.ATK_PCT: 0.21,\\n        Stat.PD: 0.04,\\n        Stat.EM: 0.02,\\n        # 0.33 shared evenly between 5 elements\\n        Stat.ED: 0.33 / 5,\\n        Stat.ED_OTHER: 0.33 * 4 / 5,\\n    },\\n    ArtifactType.CIRCLET: {\\n        Stat.HP_PCT: 0.22,\\n        Stat.DEF_PCT: 0.24,\\n        Stat.ATK_PCT: 0.22,\\n        Stat.HB: 0.07,\\n        Stat.EM: 0.05,\\n        Stat.CR: 0.10,\\n        Stat.CD: 0.10,\\n    },\\n}\";\n",
       "                var nbb_formatted_code = \"# initialize parameters on drop rate, main/sub-stats distribution etc\\n# most numbers here are based on estimation/guess\\n\\n\\n# the pdf for the number of level 5 artifact per run\\ndefault_num_lvl5_pdf = {\\n    1: 0.9,\\n    2: 0.1,\\n}\\n\\n# the probability of an artifact with 3 initial substats\\ndefault_p_substat_cnt_3 = 0.8\\n\\n# the probability of dropping the correct set\\np_correct_set = 0.5\\n\\n# the pdf for the artifact type\\ndefault_artifact_type_pdf = {\\n    ArtifactType.FLOWER: 0.2,\\n    ArtifactType.FEATHER: 0.2,\\n    ArtifactType.SANDS: 0.2,\\n    ArtifactType.GOBLET: 0.2,\\n    ArtifactType.CIRCLET: 0.2,\\n}\\n\\n# ratio between different substats\\ndefault_substat_pdf = {\\n    Stat.DEF: 0.15,\\n    Stat.ATK: 0.15,\\n    Stat.HP: 0.15,\\n    Stat.ATK_PCT: 0.1,\\n    Stat.HP_PCT: 0.1,\\n    Stat.DEF_PCT: 0.1,\\n    Stat.EM: 0.09,\\n    Stat.ER: 0.09,\\n    Stat.CR: 0.08,\\n    Stat.CD: 0.08,\\n}\\n\\n# main stat distribution for each type of artifact\\nmain_stats_pdfs = {\\n    ArtifactType.FLOWER: {Stat.HP: 1.0},\\n    ArtifactType.FEATHER: {Stat.ATK: 1.0},\\n    ArtifactType.SANDS: {\\n        Stat.HP_PCT: 0.28,\\n        Stat.DEF_PCT: 0.28,\\n        Stat.ATK_PCT: 0.25,\\n        Stat.EM: 0.10,\\n        Stat.ER: 0.09,\\n    },\\n    ArtifactType.GOBLET: {\\n        Stat.HP_PCT: 0.19,\\n        Stat.DEF_PCT: 0.21,\\n        Stat.ATK_PCT: 0.21,\\n        Stat.PD: 0.04,\\n        Stat.EM: 0.02,\\n        # 0.33 shared evenly between 5 elements\\n        Stat.ED: 0.33 / 5,\\n        Stat.ED_OTHER: 0.33 * 4 / 5,\\n    },\\n    ArtifactType.CIRCLET: {\\n        Stat.HP_PCT: 0.22,\\n        Stat.DEF_PCT: 0.24,\\n        Stat.ATK_PCT: 0.22,\\n        Stat.HB: 0.07,\\n        Stat.EM: 0.05,\\n        Stat.CR: 0.10,\\n        Stat.CD: 0.10,\\n    },\\n}\";\n",
       "                var nbb_cells = Jupyter.notebook.get_cells();\n",
       "                for (var i = 0; i < nbb_cells.length; ++i) {\n",
       "                    if (nbb_cells[i].input_prompt_number == nbb_cell_id) {\n",
       "                        if (nbb_cells[i].get_text() == nbb_unformatted_code) {\n",
       "                             nbb_cells[i].set_text(nbb_formatted_code);\n",
       "                        }\n",
       "                        break;\n",
       "                    }\n",
       "                }\n",
       "            }, 500);\n",
       "            "
      ],
      "text/plain": [
       "<IPython.core.display.Javascript object>"
      ]
     },
     "metadata": {},
     "output_type": "display_data"
    }
   ],
   "source": [
    "# initialize parameters on drop rate, main/sub-stats distribution etc\n",
    "# most numbers here are based on estimation/guess\n",
    "\n",
    "\n",
    "# the pdf for the number of level 5 artifact per run\n",
    "default_num_lvl5_pdf = {\n",
    "    1: 0.9,\n",
    "    2: 0.1,\n",
    "}\n",
    "\n",
    "# the probability of an artifact with 3 initial substats\n",
    "default_p_substat_cnt_3 = 0.8\n",
    "\n",
    "# the probability of dropping the correct set\n",
    "p_correct_set = 0.5\n",
    "\n",
    "# the pdf for the artifact type\n",
    "default_artifact_type_pdf = {\n",
    "    ArtifactType.FLOWER: 0.2,\n",
    "    ArtifactType.FEATHER: 0.2,\n",
    "    ArtifactType.SANDS: 0.2,\n",
    "    ArtifactType.GOBLET: 0.2,\n",
    "    ArtifactType.CIRCLET: 0.2,\n",
    "}\n",
    "\n",
    "# ratio between different substats\n",
    "default_substat_pdf = {\n",
    "    Stat.DEF: 0.15,\n",
    "    Stat.ATK: 0.15,\n",
    "    Stat.HP: 0.15,\n",
    "    Stat.ATK_PCT: 0.1,\n",
    "    Stat.HP_PCT: 0.1,\n",
    "    Stat.DEF_PCT: 0.1,\n",
    "    Stat.EM: 0.09,\n",
    "    Stat.ER: 0.09,\n",
    "    Stat.CR: 0.08,\n",
    "    Stat.CD: 0.08,\n",
    "}\n",
    "\n",
    "# main stat distribution for each type of artifact\n",
    "main_stats_pdfs = {\n",
    "    ArtifactType.FLOWER: {Stat.HP: 1.0},\n",
    "    ArtifactType.FEATHER: {Stat.ATK: 1.0},\n",
    "    ArtifactType.SANDS: {\n",
    "        Stat.HP_PCT: 0.28,\n",
    "        Stat.DEF_PCT: 0.28,\n",
    "        Stat.ATK_PCT: 0.25,\n",
    "        Stat.EM: 0.10,\n",
    "        Stat.ER: 0.09,\n",
    "    },\n",
    "    ArtifactType.GOBLET: {\n",
    "        Stat.HP_PCT: 0.19,\n",
    "        Stat.DEF_PCT: 0.21,\n",
    "        Stat.ATK_PCT: 0.21,\n",
    "        Stat.PD: 0.04,\n",
    "        Stat.EM: 0.02,\n",
    "        # 0.33 shared evenly between 5 elements\n",
    "        Stat.ED: 0.33 / 5,\n",
    "        Stat.ED_OTHER: 0.33 * 4 / 5,\n",
    "    },\n",
    "    ArtifactType.CIRCLET: {\n",
    "        Stat.HP_PCT: 0.22,\n",
    "        Stat.DEF_PCT: 0.24,\n",
    "        Stat.ATK_PCT: 0.22,\n",
    "        Stat.HB: 0.07,\n",
    "        Stat.EM: 0.05,\n",
    "        Stat.CR: 0.10,\n",
    "        Stat.CD: 0.10,\n",
    "    },\n",
    "}"
   ]
  },
  {
   "cell_type": "code",
   "execution_count": 4,
   "metadata": {},
   "outputs": [
    {
     "data": {
      "application/javascript": [
       "\n",
       "            setTimeout(function() {\n",
       "                var nbb_cell_id = 4;\n",
       "                var nbb_unformatted_code = \"Artifact = namedtuple(\\\"Artifact\\\", [\\\"ttype\\\", \\\"main_stat\\\", \\\"substats\\\"])\\n\\n\\ndef normalize(pdf_p):\\n    return pdf_p / np.sum(pdf_p)\\n\\n\\ndef prepare_pdf(pdf_dict):\\n    items = []\\n    pdf = []\\n    for k, v in pdf_dict.items():\\n        items.append(k)\\n        pdf.append(v)\\n    pdf = np.array(pdf)\\n    pdf = normalize(pdf)\\n    return items, pdf\\n\\n\\nclass ArtifactGenerator(object):\\n    def __init__(self, ttype, main_stats_pdf, substat_pdf=None, p_substat_cnt_3=None):\\n        self.ttype = ttype\\n        self.main_stats, self.main_stats_pdf = prepare_pdf(main_stats_pdf)\\n        if substat_pdf is None:\\n            substat_pdf = default_substat_pdf\\n        self.sub_stats, self.sub_stats_pdf = prepare_pdf(substat_pdf)\\n        if p_substat_cnt_3 is None:\\n            self.p_substat_cnt_3 = default_p_substat_cnt_3\\n\\n    def gen(self):\\n        # gen main stat\\n        main_stat = np.random.choice(self.main_stats, p=self.main_stats_pdf)\\n        num_init_substats = 3 if np.random.rand() < self.p_substat_cnt_3 else 4\\n        substats = self.gen_substats(\\n            main_stat=main_stat, num_substats=5 + num_init_substats,\\n        )\\n        return Artifact(ttype=self.ttype, main_stat=main_stat, substats=substats,)\\n\\n    def gen_substats(self, main_stat, num_substats):\\n        # first draw the four types with rejection sampling\\n        substat_set = set()\\n        while len(substat_set) < min(4, num_substats):\\n            substat = np.random.choice(self.sub_stats, p=self.sub_stats_pdf)\\n            if substat == main_stat or substat in substat_set:\\n                continue\\n            substat_set.add(substat)\\n        # fill the numbers for each substats\\n        num_substat_types = len(substat_set)\\n        remaining_cnt = num_substats - num_substat_types\\n        upgrade_cnt = (\\n            np.random.multinomial(\\n                remaining_cnt, [1 / num_substat_types] * num_substat_types,\\n            )\\n            + 1\\n        )\\n        substats = {\\n            ttype: np.sum(\\n                np.random.choice(sub_stat_ranges[ttype], size=cnt, replace=True)\\n            )\\n            for cnt, ttype in zip(upgrade_cnt, substat_set)\\n        }\\n        return substats\\n\\n\\nclass Simulator(object):\\n    def __init__(self, generators, artifact_type_pdf=None, num_lvl5_pdf=None):\\n        self.generators = generators\\n        if artifact_type_pdf is None:\\n            artifact_type_pdf = default_artifact_type_pdf\\n        self.artifact_types, self.artifact_type_pdf = prepare_pdf(artifact_type_pdf)\\n\\n        if num_lvl5_pdf is None:\\n            num_lvl5_pdf = default_num_lvl5_pdf\\n        self.num_lvl5s, self.num_lvl5_pdf = prepare_pdf(num_lvl5_pdf)\\n\\n    def run(self):\\n        cnt = np.random.choice(self.num_lvl5s, p=self.num_lvl5_pdf)\\n        artifacts = []\\n        for _ in range(cnt):\\n            if np.random.rand() >= p_correct_set:\\n                continue\\n            ttype = np.random.choice(self.artifact_types, p=self.artifact_type_pdf)\\n            artifacts.append(self.generators[ttype].gen())\\n        return artifacts\\n\\n    def run_batch(self, num_runs):\\n        artifacts = {}\\n        for _ in tqdm(range(num_runs)):\\n            for v in self.run():\\n                if v.ttype not in artifacts:\\n                    artifacts[v.ttype] = []\\n                artifacts[v.ttype].append(v)\\n        return artifacts\\n\\n\\ndef display(artifact, lang=\\\"CN\\\"):\\n    print(\\\"===================\\\")\\n    print(\\n        \\\"{}:\\\\n{:15}:\\\\t{:3.1f}\\\".format(\\n            stats_name[lang][artifact.ttype],\\n            stats_name[lang][artifact.main_stat],\\n            main_stat_max[artifact.main_stat],\\n        )\\n    )\\n    print(\\\"-------------------\\\")\\n    for t, v in artifact.substats.items():\\n        print(\\\"{:15}:\\\\t{:3.1f}\\\".format(stats_name[lang][t], v,))\\n    print(\\\"===================\\\")\";\n",
       "                var nbb_formatted_code = \"Artifact = namedtuple(\\\"Artifact\\\", [\\\"ttype\\\", \\\"main_stat\\\", \\\"substats\\\"])\\n\\n\\ndef normalize(pdf_p):\\n    return pdf_p / np.sum(pdf_p)\\n\\n\\ndef prepare_pdf(pdf_dict):\\n    items = []\\n    pdf = []\\n    for k, v in pdf_dict.items():\\n        items.append(k)\\n        pdf.append(v)\\n    pdf = np.array(pdf)\\n    pdf = normalize(pdf)\\n    return items, pdf\\n\\n\\nclass ArtifactGenerator(object):\\n    def __init__(self, ttype, main_stats_pdf, substat_pdf=None, p_substat_cnt_3=None):\\n        self.ttype = ttype\\n        self.main_stats, self.main_stats_pdf = prepare_pdf(main_stats_pdf)\\n        if substat_pdf is None:\\n            substat_pdf = default_substat_pdf\\n        self.sub_stats, self.sub_stats_pdf = prepare_pdf(substat_pdf)\\n        if p_substat_cnt_3 is None:\\n            self.p_substat_cnt_3 = default_p_substat_cnt_3\\n\\n    def gen(self):\\n        # gen main stat\\n        main_stat = np.random.choice(self.main_stats, p=self.main_stats_pdf)\\n        num_init_substats = 3 if np.random.rand() < self.p_substat_cnt_3 else 4\\n        substats = self.gen_substats(\\n            main_stat=main_stat, num_substats=5 + num_init_substats,\\n        )\\n        return Artifact(ttype=self.ttype, main_stat=main_stat, substats=substats,)\\n\\n    def gen_substats(self, main_stat, num_substats):\\n        # first draw the four types with rejection sampling\\n        substat_set = set()\\n        while len(substat_set) < min(4, num_substats):\\n            substat = np.random.choice(self.sub_stats, p=self.sub_stats_pdf)\\n            if substat == main_stat or substat in substat_set:\\n                continue\\n            substat_set.add(substat)\\n        # fill the numbers for each substats\\n        num_substat_types = len(substat_set)\\n        remaining_cnt = num_substats - num_substat_types\\n        upgrade_cnt = (\\n            np.random.multinomial(\\n                remaining_cnt, [1 / num_substat_types] * num_substat_types,\\n            )\\n            + 1\\n        )\\n        substats = {\\n            ttype: np.sum(\\n                np.random.choice(sub_stat_ranges[ttype], size=cnt, replace=True)\\n            )\\n            for cnt, ttype in zip(upgrade_cnt, substat_set)\\n        }\\n        return substats\\n\\n\\nclass Simulator(object):\\n    def __init__(self, generators, artifact_type_pdf=None, num_lvl5_pdf=None):\\n        self.generators = generators\\n        if artifact_type_pdf is None:\\n            artifact_type_pdf = default_artifact_type_pdf\\n        self.artifact_types, self.artifact_type_pdf = prepare_pdf(artifact_type_pdf)\\n\\n        if num_lvl5_pdf is None:\\n            num_lvl5_pdf = default_num_lvl5_pdf\\n        self.num_lvl5s, self.num_lvl5_pdf = prepare_pdf(num_lvl5_pdf)\\n\\n    def run(self):\\n        cnt = np.random.choice(self.num_lvl5s, p=self.num_lvl5_pdf)\\n        artifacts = []\\n        for _ in range(cnt):\\n            if np.random.rand() >= p_correct_set:\\n                continue\\n            ttype = np.random.choice(self.artifact_types, p=self.artifact_type_pdf)\\n            artifacts.append(self.generators[ttype].gen())\\n        return artifacts\\n\\n    def run_batch(self, num_runs):\\n        artifacts = {}\\n        for _ in tqdm(range(num_runs)):\\n            for v in self.run():\\n                if v.ttype not in artifacts:\\n                    artifacts[v.ttype] = []\\n                artifacts[v.ttype].append(v)\\n        return artifacts\\n\\n\\ndef display(artifact, lang=\\\"CN\\\"):\\n    print(\\\"===================\\\")\\n    print(\\n        \\\"{}:\\\\n{:15}:\\\\t{:3.1f}\\\".format(\\n            stats_name[lang][artifact.ttype],\\n            stats_name[lang][artifact.main_stat],\\n            main_stat_max[artifact.main_stat],\\n        )\\n    )\\n    print(\\\"-------------------\\\")\\n    for t, v in artifact.substats.items():\\n        print(\\\"{:15}:\\\\t{:3.1f}\\\".format(stats_name[lang][t], v,))\\n    print(\\\"===================\\\")\";\n",
       "                var nbb_cells = Jupyter.notebook.get_cells();\n",
       "                for (var i = 0; i < nbb_cells.length; ++i) {\n",
       "                    if (nbb_cells[i].input_prompt_number == nbb_cell_id) {\n",
       "                        if (nbb_cells[i].get_text() == nbb_unformatted_code) {\n",
       "                             nbb_cells[i].set_text(nbb_formatted_code);\n",
       "                        }\n",
       "                        break;\n",
       "                    }\n",
       "                }\n",
       "            }, 500);\n",
       "            "
      ],
      "text/plain": [
       "<IPython.core.display.Javascript object>"
      ]
     },
     "metadata": {},
     "output_type": "display_data"
    }
   ],
   "source": [
    "Artifact = namedtuple(\"Artifact\", [\"ttype\", \"main_stat\", \"substats\"])\n",
    "\n",
    "\n",
    "def normalize(pdf_p):\n",
    "    return pdf_p / np.sum(pdf_p)\n",
    "\n",
    "\n",
    "def prepare_pdf(pdf_dict):\n",
    "    items = []\n",
    "    pdf = []\n",
    "    for k, v in pdf_dict.items():\n",
    "        items.append(k)\n",
    "        pdf.append(v)\n",
    "    pdf = np.array(pdf)\n",
    "    pdf = normalize(pdf)\n",
    "    return items, pdf\n",
    "\n",
    "\n",
    "class ArtifactGenerator(object):\n",
    "    def __init__(self, ttype, main_stats_pdf, substat_pdf=None, p_substat_cnt_3=None):\n",
    "        self.ttype = ttype\n",
    "        self.main_stats, self.main_stats_pdf = prepare_pdf(main_stats_pdf)\n",
    "        if substat_pdf is None:\n",
    "            substat_pdf = default_substat_pdf\n",
    "        self.sub_stats, self.sub_stats_pdf = prepare_pdf(substat_pdf)\n",
    "        if p_substat_cnt_3 is None:\n",
    "            self.p_substat_cnt_3 = default_p_substat_cnt_3\n",
    "\n",
    "    def gen(self):\n",
    "        # gen main stat\n",
    "        main_stat = np.random.choice(self.main_stats, p=self.main_stats_pdf)\n",
    "        num_init_substats = 3 if np.random.rand() < self.p_substat_cnt_3 else 4\n",
    "        substats = self.gen_substats(\n",
    "            main_stat=main_stat, num_substats=5 + num_init_substats,\n",
    "        )\n",
    "        return Artifact(ttype=self.ttype, main_stat=main_stat, substats=substats,)\n",
    "\n",
    "    def gen_substats(self, main_stat, num_substats):\n",
    "        # first draw the four types with rejection sampling\n",
    "        substat_set = set()\n",
    "        while len(substat_set) < min(4, num_substats):\n",
    "            substat = np.random.choice(self.sub_stats, p=self.sub_stats_pdf)\n",
    "            if substat == main_stat or substat in substat_set:\n",
    "                continue\n",
    "            substat_set.add(substat)\n",
    "        # fill the numbers for each substats\n",
    "        num_substat_types = len(substat_set)\n",
    "        remaining_cnt = num_substats - num_substat_types\n",
    "        upgrade_cnt = (\n",
    "            np.random.multinomial(\n",
    "                remaining_cnt, [1 / num_substat_types] * num_substat_types,\n",
    "            )\n",
    "            + 1\n",
    "        )\n",
    "        substats = {\n",
    "            ttype: np.sum(\n",
    "                np.random.choice(sub_stat_ranges[ttype], size=cnt, replace=True)\n",
    "            )\n",
    "            for cnt, ttype in zip(upgrade_cnt, substat_set)\n",
    "        }\n",
    "        return substats\n",
    "\n",
    "\n",
    "class Simulator(object):\n",
    "    def __init__(self, generators, artifact_type_pdf=None, num_lvl5_pdf=None):\n",
    "        self.generators = generators\n",
    "        if artifact_type_pdf is None:\n",
    "            artifact_type_pdf = default_artifact_type_pdf\n",
    "        self.artifact_types, self.artifact_type_pdf = prepare_pdf(artifact_type_pdf)\n",
    "\n",
    "        if num_lvl5_pdf is None:\n",
    "            num_lvl5_pdf = default_num_lvl5_pdf\n",
    "        self.num_lvl5s, self.num_lvl5_pdf = prepare_pdf(num_lvl5_pdf)\n",
    "\n",
    "    def run(self):\n",
    "        cnt = np.random.choice(self.num_lvl5s, p=self.num_lvl5_pdf)\n",
    "        artifacts = []\n",
    "        for _ in range(cnt):\n",
    "            if np.random.rand() >= p_correct_set:\n",
    "                continue\n",
    "            ttype = np.random.choice(self.artifact_types, p=self.artifact_type_pdf)\n",
    "            artifacts.append(self.generators[ttype].gen())\n",
    "        return artifacts\n",
    "\n",
    "    def run_batch(self, num_runs):\n",
    "        artifacts = {}\n",
    "        for _ in tqdm(range(num_runs)):\n",
    "            for v in self.run():\n",
    "                if v.ttype not in artifacts:\n",
    "                    artifacts[v.ttype] = []\n",
    "                artifacts[v.ttype].append(v)\n",
    "        return artifacts\n",
    "\n",
    "\n",
    "def display(artifact, lang=\"CN\"):\n",
    "    print(\"===================\")\n",
    "    print(\n",
    "        \"{}:\\n{:15}:\\t{:3.1f}\".format(\n",
    "            stats_name[lang][artifact.ttype],\n",
    "            stats_name[lang][artifact.main_stat],\n",
    "            main_stat_max[artifact.main_stat],\n",
    "        )\n",
    "    )\n",
    "    print(\"-------------------\")\n",
    "    for t, v in artifact.substats.items():\n",
    "        print(\"{:15}:\\t{:3.1f}\".format(stats_name[lang][t], v,))\n",
    "    print(\"===================\")"
   ]
  },
  {
   "cell_type": "markdown",
   "metadata": {},
   "source": [
    "### how to compare between different artifacts"
   ]
  },
  {
   "cell_type": "code",
   "execution_count": 6,
   "metadata": {},
   "outputs": [
    {
     "data": {
      "application/javascript": [
       "\n",
       "            setTimeout(function() {\n",
       "                var nbb_cell_id = 6;\n",
       "                var nbb_unformatted_code = \"generators = {\\n    ttype: ArtifactGenerator(ttype=ttype, main_stats_pdf=main_stats_pdf,)\\n    for ttype, main_stats_pdf in main_stats_pdfs.items()\\n}\\nsimulator = Simulator(generators=generators)\";\n",
       "                var nbb_formatted_code = \"generators = {\\n    ttype: ArtifactGenerator(ttype=ttype, main_stats_pdf=main_stats_pdf,)\\n    for ttype, main_stats_pdf in main_stats_pdfs.items()\\n}\\nsimulator = Simulator(generators=generators)\";\n",
       "                var nbb_cells = Jupyter.notebook.get_cells();\n",
       "                for (var i = 0; i < nbb_cells.length; ++i) {\n",
       "                    if (nbb_cells[i].input_prompt_number == nbb_cell_id) {\n",
       "                        if (nbb_cells[i].get_text() == nbb_unformatted_code) {\n",
       "                             nbb_cells[i].set_text(nbb_formatted_code);\n",
       "                        }\n",
       "                        break;\n",
       "                    }\n",
       "                }\n",
       "            }, 500);\n",
       "            "
      ],
      "text/plain": [
       "<IPython.core.display.Javascript object>"
      ]
     },
     "metadata": {},
     "output_type": "display_data"
    }
   ],
   "source": [
    "generators = {\n",
    "    ttype: ArtifactGenerator(ttype=ttype, main_stats_pdf=main_stats_pdf,)\n",
    "    for ttype, main_stats_pdf in main_stats_pdfs.items()\n",
    "}\n",
    "simulator = Simulator(generators=generators)"
   ]
  },
  {
   "cell_type": "markdown",
   "metadata": {},
   "source": [
    "# simulate the grind!"
   ]
  },
  {
   "cell_type": "code",
   "execution_count": 7,
   "metadata": {},
   "outputs": [
    {
     "name": "stdout",
     "output_type": "stream",
     "text": [
      "Total number of trails: 3285\n"
     ]
    },
    {
     "data": {
      "application/javascript": [
       "\n",
       "            setTimeout(function() {\n",
       "                var nbb_cell_id = 7;\n",
       "                var nbb_unformatted_code = \"num_days = 365\\nnum_runs = 180 * num_days // 20\\nprint(\\\"Total number of trails: {}\\\".format(num_runs))\";\n",
       "                var nbb_formatted_code = \"num_days = 365\\nnum_runs = 180 * num_days // 20\\nprint(\\\"Total number of trails: {}\\\".format(num_runs))\";\n",
       "                var nbb_cells = Jupyter.notebook.get_cells();\n",
       "                for (var i = 0; i < nbb_cells.length; ++i) {\n",
       "                    if (nbb_cells[i].input_prompt_number == nbb_cell_id) {\n",
       "                        if (nbb_cells[i].get_text() == nbb_unformatted_code) {\n",
       "                             nbb_cells[i].set_text(nbb_formatted_code);\n",
       "                        }\n",
       "                        break;\n",
       "                    }\n",
       "                }\n",
       "            }, 500);\n",
       "            "
      ],
      "text/plain": [
       "<IPython.core.display.Javascript object>"
      ]
     },
     "metadata": {},
     "output_type": "display_data"
    }
   ],
   "source": [
    "num_days = 365\n",
    "num_runs = 180 * num_days // 20\n",
    "print(\"Total number of trails: {}\".format(num_runs))"
   ]
  },
  {
   "cell_type": "code",
   "execution_count": 8,
   "metadata": {},
   "outputs": [
    {
     "name": "stderr",
     "output_type": "stream",
     "text": [
      "100%|██████████| 3285/3285 [00:00<00:00, 3847.15it/s]\n"
     ]
    },
    {
     "data": {
      "application/javascript": [
       "\n",
       "            setTimeout(function() {\n",
       "                var nbb_cell_id = 8;\n",
       "                var nbb_unformatted_code = \"artifacts = simulator.run_batch(num_runs=num_runs)\";\n",
       "                var nbb_formatted_code = \"artifacts = simulator.run_batch(num_runs=num_runs)\";\n",
       "                var nbb_cells = Jupyter.notebook.get_cells();\n",
       "                for (var i = 0; i < nbb_cells.length; ++i) {\n",
       "                    if (nbb_cells[i].input_prompt_number == nbb_cell_id) {\n",
       "                        if (nbb_cells[i].get_text() == nbb_unformatted_code) {\n",
       "                             nbb_cells[i].set_text(nbb_formatted_code);\n",
       "                        }\n",
       "                        break;\n",
       "                    }\n",
       "                }\n",
       "            }, 500);\n",
       "            "
      ],
      "text/plain": [
       "<IPython.core.display.Javascript object>"
      ]
     },
     "metadata": {},
     "output_type": "display_data"
    }
   ],
   "source": [
    "artifacts = simulator.run_batch(num_runs=num_runs)"
   ]
  },
  {
   "cell_type": "code",
   "execution_count": 27,
   "metadata": {},
   "outputs": [
    {
     "data": {
      "application/javascript": [
       "\n",
       "            setTimeout(function() {\n",
       "                var nbb_cell_id = 27;\n",
       "                var nbb_unformatted_code = \"class ArtifactScore(object):\\n    # using the main stat max to normalize the scores\\n    stat_weights = {\\n        Stat.ATK: 1.0 / 322,\\n        Stat.HP: 0.0 / 4780,\\n        Stat.DEF: 0.0 / 187,  # no sure here\\n        Stat.ATK_PCT: 3.0 / 46.6,\\n        Stat.HP_PCT: 0.0 / 46.6,\\n        Stat.DEF_PCT: 0.0 / 58.3,\\n        Stat.EM: 0.0 / 187,\\n        Stat.ER: 0.0 / 51.8,\\n        Stat.ED: 10.0 / 46.6,\\n        Stat.ED_OTHER: 0.0 / 46.6,\\n        Stat.PD: 0.0 / 58.3,\\n        Stat.HB: 0.0 / 35.9,\\n        Stat.CR: 10.0 / 31.1,\\n        Stat.CD: 10.0 / 62.2,\\n    }\\n\\n    def __init__(self, stat_weights=None):\\n        if stat_weights is not None:\\n            self.stat_weights = stat_weights\\n\\n    def __call__(self, artifact):\\n        score = 0\\n        score += main_stat_max[artifact.main_stat] * self.stat_weights.get(\\n            artifact.main_stat, 0.0\\n        )\\n        for t, v in artifact.substats.items():\\n            score += v * self.stat_weights.get(t,0.0)\\n        return score\";\n",
       "                var nbb_formatted_code = \"class ArtifactScore(object):\\n    # using the main stat max to normalize the scores\\n    stat_weights = {\\n        Stat.ATK: 1.0 / 322,\\n        Stat.HP: 0.0 / 4780,\\n        Stat.DEF: 0.0 / 187,  # no sure here\\n        Stat.ATK_PCT: 3.0 / 46.6,\\n        Stat.HP_PCT: 0.0 / 46.6,\\n        Stat.DEF_PCT: 0.0 / 58.3,\\n        Stat.EM: 0.0 / 187,\\n        Stat.ER: 0.0 / 51.8,\\n        Stat.ED: 10.0 / 46.6,\\n        Stat.ED_OTHER: 0.0 / 46.6,\\n        Stat.PD: 0.0 / 58.3,\\n        Stat.HB: 0.0 / 35.9,\\n        Stat.CR: 10.0 / 31.1,\\n        Stat.CD: 10.0 / 62.2,\\n    }\\n\\n    def __init__(self, stat_weights=None):\\n        if stat_weights is not None:\\n            self.stat_weights = stat_weights\\n\\n    def __call__(self, artifact):\\n        score = 0\\n        score += main_stat_max[artifact.main_stat] * self.stat_weights.get(\\n            artifact.main_stat, 0.0\\n        )\\n        for t, v in artifact.substats.items():\\n            score += v * self.stat_weights.get(t, 0.0)\\n        return score\";\n",
       "                var nbb_cells = Jupyter.notebook.get_cells();\n",
       "                for (var i = 0; i < nbb_cells.length; ++i) {\n",
       "                    if (nbb_cells[i].input_prompt_number == nbb_cell_id) {\n",
       "                        if (nbb_cells[i].get_text() == nbb_unformatted_code) {\n",
       "                             nbb_cells[i].set_text(nbb_formatted_code);\n",
       "                        }\n",
       "                        break;\n",
       "                    }\n",
       "                }\n",
       "            }, 500);\n",
       "            "
      ],
      "text/plain": [
       "<IPython.core.display.Javascript object>"
      ]
     },
     "metadata": {},
     "output_type": "display_data"
    }
   ],
   "source": [
    "class ArtifactScore(object):\n",
    "    # using the main stat max to normalize the scores\n",
    "    stat_weights = {\n",
    "        Stat.ATK: 1.0 / 322,\n",
    "        Stat.HP: 0.0 / 4780,\n",
    "        Stat.DEF: 0.0 / 187,  # no sure here\n",
    "        Stat.ATK_PCT: 3.0 / 46.6,\n",
    "        Stat.HP_PCT: 0.0 / 46.6,\n",
    "        Stat.DEF_PCT: 0.0 / 58.3,\n",
    "        Stat.EM: 0.0 / 187,\n",
    "        Stat.ER: 0.0 / 51.8,\n",
    "        Stat.ED: 10.0 / 46.6,\n",
    "        Stat.ED_OTHER: 0.0 / 46.6,\n",
    "        Stat.PD: 0.0 / 58.3,\n",
    "        Stat.HB: 0.0 / 35.9,\n",
    "        Stat.CR: 10.0 / 31.1,\n",
    "        Stat.CD: 10.0 / 62.2,\n",
    "    }\n",
    "\n",
    "    def __init__(self, stat_weights=None):\n",
    "        if stat_weights is not None:\n",
    "            self.stat_weights = stat_weights\n",
    "\n",
    "    def __call__(self, artifact):\n",
    "        score = 0\n",
    "        score += main_stat_max[artifact.main_stat] * self.stat_weights.get(\n",
    "            artifact.main_stat, 0.0\n",
    "        )\n",
    "        for t, v in artifact.substats.items():\n",
    "            score += v * self.stat_weights.get(t, 0.0)\n",
    "        return score"
   ]
  },
  {
   "cell_type": "code",
   "execution_count": 24,
   "metadata": {},
   "outputs": [
    {
     "data": {
      "application/javascript": [
       "\n",
       "            setTimeout(function() {\n",
       "                var nbb_cell_id = 24;\n",
       "                var nbb_unformatted_code = \"# sort the artifact within each type\\ncomparator = ArtifactScore()\\nfor ttype in artifacts:\\n    artifacts[ttype].sort(key=comparator, reverse=True)\";\n",
       "                var nbb_formatted_code = \"# sort the artifact within each type\\ncomparator = ArtifactScore()\\nfor ttype in artifacts:\\n    artifacts[ttype].sort(key=comparator, reverse=True)\";\n",
       "                var nbb_cells = Jupyter.notebook.get_cells();\n",
       "                for (var i = 0; i < nbb_cells.length; ++i) {\n",
       "                    if (nbb_cells[i].input_prompt_number == nbb_cell_id) {\n",
       "                        if (nbb_cells[i].get_text() == nbb_unformatted_code) {\n",
       "                             nbb_cells[i].set_text(nbb_formatted_code);\n",
       "                        }\n",
       "                        break;\n",
       "                    }\n",
       "                }\n",
       "            }, 500);\n",
       "            "
      ],
      "text/plain": [
       "<IPython.core.display.Javascript object>"
      ]
     },
     "metadata": {},
     "output_type": "display_data"
    }
   ],
   "source": [
    "# sort the artifact within each type\n",
    "comparator = ArtifactScore()\n",
    "for ttype in artifacts:\n",
    "    artifacts[ttype].sort(key=comparator, reverse=True)"
   ]
  },
  {
   "cell_type": "code",
   "execution_count": 25,
   "metadata": {},
   "outputs": [
    {
     "name": "stdout",
     "output_type": "stream",
     "text": [
      "Got 360 生之花.\n",
      "===================\n",
      "生之花:\n",
      "生命值            :\t4780.0\n",
      "-------------------\n",
      "防御力            :\t40.0\n",
      "暴击率%           :\t10.5\n",
      "暴击伤害%          :\t12.4\n",
      "防御力%           :\t11.7\n",
      "===================\n",
      "===================\n",
      "生之花:\n",
      "生命值            :\t4780.0\n",
      "-------------------\n",
      "元素充能%          :\t4.5\n",
      "生命值%           :\t9.9\n",
      "暴击率%           :\t10.1\n",
      "暴击伤害%          :\t12.4\n",
      "===================\n",
      "===================\n",
      "生之花:\n",
      "生命值            :\t4780.0\n",
      "-------------------\n",
      "元素充能%          :\t17.5\n",
      "攻击力%           :\t10.0\n",
      "暴击率%           :\t7.0\n",
      "暴击伤害%          :\t14.0\n",
      "===================\n",
      "\n",
      "\n",
      "\n",
      "Got 370 死之羽.\n",
      "===================\n",
      "死之羽:\n",
      "攻击力            :\t322.0\n",
      "-------------------\n",
      "生命值%           :\t5.8\n",
      "暴击率%           :\t10.1\n",
      "暴击伤害%          :\t18.7\n",
      "元素精通           :\t16.0\n",
      "===================\n",
      "===================\n",
      "死之羽:\n",
      "攻击力            :\t322.0\n",
      "-------------------\n",
      "防御力            :\t23.0\n",
      "生命值            :\t299.0\n",
      "暴击率%           :\t10.1\n",
      "暴击伤害%          :\t17.8\n",
      "===================\n",
      "===================\n",
      "死之羽:\n",
      "攻击力            :\t322.0\n",
      "-------------------\n",
      "防御力            :\t19.0\n",
      "暴击率%           :\t6.2\n",
      "暴击伤害%          :\t24.8\n",
      "防御力%           :\t14.6\n",
      "===================\n",
      "\n",
      "\n",
      "\n",
      "Got 349 时之沙.\n",
      "===================\n",
      "时之沙:\n",
      "攻击力%           :\t46.6\n",
      "-------------------\n",
      "元素充能%          :\t9.0\n",
      "生命值            :\t777.0\n",
      "暴击率%           :\t10.9\n",
      "暴击伤害%          :\t7.9\n",
      "===================\n",
      "===================\n",
      "时之沙:\n",
      "攻击力%           :\t46.6\n",
      "-------------------\n",
      "元素充能%          :\t5.8\n",
      "防御力            :\t23.0\n",
      "攻击力            :\t34.0\n",
      "暴击率%           :\t13.2\n",
      "===================\n",
      "===================\n",
      "时之沙:\n",
      "攻击力%           :\t46.6\n",
      "-------------------\n",
      "攻击力            :\t36.0\n",
      "暴击率%           :\t6.6\n",
      "防御力%           :\t13.9\n",
      "暴击伤害%          :\t12.4\n",
      "===================\n",
      "\n",
      "\n",
      "\n",
      "Got 383 空之杯.\n",
      "===================\n",
      "空之杯:\n",
      "元素伤害%          :\t46.6\n",
      "-------------------\n",
      "攻击力%           :\t9.4\n",
      "暴击率%           :\t12.8\n",
      "暴击伤害%          :\t5.4\n",
      "元素精通           :\t32.0\n",
      "===================\n",
      "===================\n",
      "空之杯:\n",
      "元素伤害%          :\t46.6\n",
      "-------------------\n",
      "防御力            :\t19.0\n",
      "生命值%           :\t8.2\n",
      "生命值            :\t239.0\n",
      "暴击率%           :\t16.7\n",
      "===================\n",
      "===================\n",
      "空之杯:\n",
      "元素伤害%          :\t46.6\n",
      "-------------------\n",
      "防御力            :\t19.0\n",
      "攻击力            :\t51.0\n",
      "生命值%           :\t4.7\n",
      "暴击伤害%          :\t19.4\n",
      "===================\n",
      "\n",
      "\n",
      "\n",
      "Got 359 理之冠.\n",
      "===================\n",
      "理之冠:\n",
      "暴击率%           :\t31.1\n",
      "-------------------\n",
      "防御力            :\t23.0\n",
      "攻击力%           :\t5.3\n",
      "生命值%           :\t8.8\n",
      "暴击伤害%          :\t24.8\n",
      "===================\n",
      "===================\n",
      "理之冠:\n",
      "暴击伤害%          :\t62.2\n",
      "-------------------\n",
      "生命值%           :\t5.8\n",
      "生命值            :\t717.0\n",
      "攻击力%           :\t5.3\n",
      "暴击率%           :\t12.0\n",
      "===================\n",
      "===================\n",
      "理之冠:\n",
      "暴击率%           :\t31.1\n",
      "-------------------\n",
      "防御力            :\t23.0\n",
      "生命值            :\t508.0\n",
      "攻击力%           :\t9.4\n",
      "暴击伤害%          :\t21.2\n",
      "===================\n",
      "\n",
      "\n",
      "\n"
     ]
    },
    {
     "data": {
      "application/javascript": [
       "\n",
       "            setTimeout(function() {\n",
       "                var nbb_cell_id = 25;\n",
       "                var nbb_unformatted_code = \"lang = \\\"CN\\\"\\ntopk = 3\\n\\nfor ttype in {\\n    ArtifactType.FLOWER,\\n    ArtifactType.FEATHER,\\n    ArtifactType.SANDS,\\n    ArtifactType.GOBLET,\\n    ArtifactType.CIRCLET,\\n}:\\n    print(\\\"Got {} {}.\\\".format(len(artifacts[ttype]), stats_name[lang][ttype]))\\n    for i in range(topk):\\n        display(artifacts[ttype][i], lang=lang)\\n    print(\\\"\\\\n\\\\n\\\")\";\n",
       "                var nbb_formatted_code = \"lang = \\\"CN\\\"\\ntopk = 3\\n\\nfor ttype in {\\n    ArtifactType.FLOWER,\\n    ArtifactType.FEATHER,\\n    ArtifactType.SANDS,\\n    ArtifactType.GOBLET,\\n    ArtifactType.CIRCLET,\\n}:\\n    print(\\\"Got {} {}.\\\".format(len(artifacts[ttype]), stats_name[lang][ttype]))\\n    for i in range(topk):\\n        display(artifacts[ttype][i], lang=lang)\\n    print(\\\"\\\\n\\\\n\\\")\";\n",
       "                var nbb_cells = Jupyter.notebook.get_cells();\n",
       "                for (var i = 0; i < nbb_cells.length; ++i) {\n",
       "                    if (nbb_cells[i].input_prompt_number == nbb_cell_id) {\n",
       "                        if (nbb_cells[i].get_text() == nbb_unformatted_code) {\n",
       "                             nbb_cells[i].set_text(nbb_formatted_code);\n",
       "                        }\n",
       "                        break;\n",
       "                    }\n",
       "                }\n",
       "            }, 500);\n",
       "            "
      ],
      "text/plain": [
       "<IPython.core.display.Javascript object>"
      ]
     },
     "metadata": {},
     "output_type": "display_data"
    }
   ],
   "source": [
    "lang = \"CN\"\n",
    "topk = 3\n",
    "\n",
    "for ttype in {\n",
    "    ArtifactType.FLOWER,\n",
    "    ArtifactType.FEATHER,\n",
    "    ArtifactType.SANDS,\n",
    "    ArtifactType.GOBLET,\n",
    "    ArtifactType.CIRCLET,\n",
    "}:\n",
    "    print(\"Got {} {}.\".format(len(artifacts[ttype]), stats_name[lang][ttype]))\n",
    "    for i in range(topk):\n",
    "        display(artifacts[ttype][i], lang=lang)\n",
    "    print(\"\\n\\n\")"
   ]
  },
  {
   "cell_type": "markdown",
   "metadata": {},
   "source": [
    "## how many runs do I need to get a circlet with CR/CD as main and CD/CR as good substat"
   ]
  },
  {
   "cell_type": "code",
   "execution_count": 28,
   "metadata": {},
   "outputs": [
    {
     "name": "stderr",
     "output_type": "stream",
     "text": [
      "100%|██████████| 500/500 [03:08<00:00,  2.65it/s]\n"
     ]
    },
    {
     "data": {
      "application/javascript": [
       "\n",
       "            setTimeout(function() {\n",
       "                var nbb_cell_id = 28;\n",
       "                var nbb_unformatted_code = \"num_runs_needed = []\\nnum_trials = 500\\n\\nscorer1 = ArtifactScore(\\n    stat_weights = {       \\n        Stat.CD: 1.0 \\n    }\\n)\\n# cd in substats increased more than 3 times\\nsubstat_cd_thd = 20\\nfor _ in tqdm(range(num_trials)):\\n    cnt = 0\\n    found = False\\n    while not found:\\n        cnt += 1\\n        for v in simulator.run():\\n            if v.ttype != ArtifactType.CIRCLET or v.main_stat != Stat.CR:\\n                continue\\n            if scorer1(v) > substat_cd_thd:\\n                num_runs_needed.append(cnt)\\n                found = True\\n                break           \";\n",
       "                var nbb_formatted_code = \"num_runs_needed = []\\nnum_trials = 500\\n\\nscorer1 = ArtifactScore(stat_weights={Stat.CD: 1.0})\\n# cd in substats increased more than 3 times\\nsubstat_cd_thd = 20\\nfor _ in tqdm(range(num_trials)):\\n    cnt = 0\\n    found = False\\n    while not found:\\n        cnt += 1\\n        for v in simulator.run():\\n            if v.ttype != ArtifactType.CIRCLET or v.main_stat != Stat.CR:\\n                continue\\n            if scorer1(v) > substat_cd_thd:\\n                num_runs_needed.append(cnt)\\n                found = True\\n                break\";\n",
       "                var nbb_cells = Jupyter.notebook.get_cells();\n",
       "                for (var i = 0; i < nbb_cells.length; ++i) {\n",
       "                    if (nbb_cells[i].input_prompt_number == nbb_cell_id) {\n",
       "                        if (nbb_cells[i].get_text() == nbb_unformatted_code) {\n",
       "                             nbb_cells[i].set_text(nbb_formatted_code);\n",
       "                        }\n",
       "                        break;\n",
       "                    }\n",
       "                }\n",
       "            }, 500);\n",
       "            "
      ],
      "text/plain": [
       "<IPython.core.display.Javascript object>"
      ]
     },
     "metadata": {},
     "output_type": "display_data"
    }
   ],
   "source": [
    "num_runs_needed = []\n",
    "num_trials = 500\n",
    "\n",
    "scorer1 = ArtifactScore(\n",
    "    stat_weights = {       \n",
    "        Stat.CD: 1.0 \n",
    "    }\n",
    ")\n",
    "# cd in substats increased more than 3 times\n",
    "substat_thd = 20\n",
    "for _ in tqdm(range(num_trials)):\n",
    "    cnt = 0\n",
    "    found = False\n",
    "    while not found:\n",
    "        cnt += 1\n",
    "        for v in simulator.run():\n",
    "            if v.ttype != ArtifactType.CIRCLET or v.main_stat != Stat.CR:\n",
    "                continue\n",
    "            if scorer1(v) > substat_thd:\n",
    "                num_runs_needed.append(cnt)\n",
    "                found = True\n",
    "                break           \n"
   ]
  },
  {
   "cell_type": "code",
   "execution_count": 29,
   "metadata": {},
   "outputs": [
    {
     "name": "stdout",
     "output_type": "stream",
     "text": [
      "10-percentile: 187\n",
      "50-percentile: 1134\n",
      "90-percentile: 3145\n"
     ]
    },
    {
     "data": {
      "application/javascript": [
       "\n",
       "            setTimeout(function() {\n",
       "                var nbb_cell_id = 29;\n",
       "                var nbb_unformatted_code = \"num_runs_needed.sort()\\n\\nprint(\\\"10-percentile: {}\\\".format(num_runs_needed[num_trials//10]))\\nprint(\\\"50-percentile: {}\\\".format(num_runs_needed[num_trials//2]))\\nprint(\\\"90-percentile: {}\\\".format(num_runs_needed[num_trials-num_trials//10]))\";\n",
       "                var nbb_formatted_code = \"num_runs_needed.sort()\\n\\nprint(\\\"10-percentile: {}\\\".format(num_runs_needed[num_trials // 10]))\\nprint(\\\"50-percentile: {}\\\".format(num_runs_needed[num_trials // 2]))\\nprint(\\\"90-percentile: {}\\\".format(num_runs_needed[num_trials - num_trials // 10]))\";\n",
       "                var nbb_cells = Jupyter.notebook.get_cells();\n",
       "                for (var i = 0; i < nbb_cells.length; ++i) {\n",
       "                    if (nbb_cells[i].input_prompt_number == nbb_cell_id) {\n",
       "                        if (nbb_cells[i].get_text() == nbb_unformatted_code) {\n",
       "                             nbb_cells[i].set_text(nbb_formatted_code);\n",
       "                        }\n",
       "                        break;\n",
       "                    }\n",
       "                }\n",
       "            }, 500);\n",
       "            "
      ],
      "text/plain": [
       "<IPython.core.display.Javascript object>"
      ]
     },
     "metadata": {},
     "output_type": "display_data"
    }
   ],
   "source": [
    "num_runs_needed.sort()\n",
    "\n",
    "print(\"10-percentile: {}\".format(num_runs_needed[num_trials // 10]))\n",
    "print(\"50-percentile: {}\".format(num_runs_needed[num_trials // 2]))\n",
    "print(\"90-percentile: {}\".format(num_runs_needed[num_trials - num_trials // 10]))"
   ]
  },
  {
   "cell_type": "markdown",
   "metadata": {},
   "source": [
    "## how many runs do I need to get a SANDS with ATK_PCT as main and CD&CR as good substat"
   ]
  },
  {
   "cell_type": "code",
   "execution_count": 30,
   "metadata": {},
   "outputs": [
    {
     "name": "stderr",
     "output_type": "stream",
     "text": [
      "100%|██████████| 500/500 [01:33<00:00,  5.35it/s]\n"
     ]
    },
    {
     "data": {
      "application/javascript": [
       "\n",
       "            setTimeout(function() {\n",
       "                var nbb_cell_id = 30;\n",
       "                var nbb_unformatted_code = \"num_runs_needed = []\\nnum_trials = 500\\n\\nscorer1 = ArtifactScore(\\n    stat_weights = {       \\n        Stat.CD: 1.0,\\n        Stat.CR: 2.0,\\n    }\\n)\\n# cd & cr in substats increased more than 3 times\\nsubstat_cd_thd = 28\\nfor _ in tqdm(range(num_trials)):\\n    cnt = 0\\n    found = False\\n    while not found:\\n        cnt += 1\\n        for v in simulator.run():\\n            if v.ttype != ArtifactType.SANDS or v.main_stat != Stat.ATK_PCT:\\n                continue\\n            if scorer1(v) > substat_cd_thd:\\n                num_runs_needed.append(cnt)\\n                found = True\\n                break       \";\n",
       "                var nbb_formatted_code = \"num_runs_needed = []\\nnum_trials = 500\\n\\nscorer1 = ArtifactScore(stat_weights={Stat.CD: 1.0, Stat.CR: 2.0,})\\n# cd & cr in substats increased more than 3 times\\nsubstat_cd_thd = 28\\nfor _ in tqdm(range(num_trials)):\\n    cnt = 0\\n    found = False\\n    while not found:\\n        cnt += 1\\n        for v in simulator.run():\\n            if v.ttype != ArtifactType.SANDS or v.main_stat != Stat.ATK_PCT:\\n                continue\\n            if scorer1(v) > substat_cd_thd:\\n                num_runs_needed.append(cnt)\\n                found = True\\n                break\";\n",
       "                var nbb_cells = Jupyter.notebook.get_cells();\n",
       "                for (var i = 0; i < nbb_cells.length; ++i) {\n",
       "                    if (nbb_cells[i].input_prompt_number == nbb_cell_id) {\n",
       "                        if (nbb_cells[i].get_text() == nbb_unformatted_code) {\n",
       "                             nbb_cells[i].set_text(nbb_formatted_code);\n",
       "                        }\n",
       "                        break;\n",
       "                    }\n",
       "                }\n",
       "            }, 500);\n",
       "            "
      ],
      "text/plain": [
       "<IPython.core.display.Javascript object>"
      ]
     },
     "metadata": {},
     "output_type": "display_data"
    }
   ],
   "source": [
    "num_runs_needed = []\n",
    "num_trials = 500\n",
    "\n",
    "scorer1 = ArtifactScore(\n",
    "    stat_weights = {       \n",
    "        Stat.CD: 1.0,\n",
    "        Stat.CR: 2.0,\n",
    "    }\n",
    ")\n",
    "# cd & cr in substats increased more than 3 times\n",
    "substat_thd = 28\n",
    "for _ in tqdm(range(num_trials)):\n",
    "    cnt = 0\n",
    "    found = False\n",
    "    while not found:\n",
    "        cnt += 1\n",
    "        for v in simulator.run():\n",
    "            if v.ttype != ArtifactType.SANDS or v.main_stat != Stat.ATK_PCT:\n",
    "                continue\n",
    "            if scorer1(v) > substat_thd:\n",
    "                num_runs_needed.append(cnt)\n",
    "                found = True\n",
    "                break       \n"
   ]
  },
  {
   "cell_type": "code",
   "execution_count": 31,
   "metadata": {},
   "outputs": [
    {
     "name": "stdout",
     "output_type": "stream",
     "text": [
      "10-percentile: 70\n",
      "50-percentile: 524\n",
      "90-percentile: 1703\n"
     ]
    },
    {
     "data": {
      "application/javascript": [
       "\n",
       "            setTimeout(function() {\n",
       "                var nbb_cell_id = 31;\n",
       "                var nbb_unformatted_code = \"num_runs_needed.sort()\\n\\nprint(\\\"10-percentile: {}\\\".format(num_runs_needed[num_trials // 10]))\\nprint(\\\"50-percentile: {}\\\".format(num_runs_needed[num_trials // 2]))\\nprint(\\\"90-percentile: {}\\\".format(num_runs_needed[num_trials - num_trials // 10]))\";\n",
       "                var nbb_formatted_code = \"num_runs_needed.sort()\\n\\nprint(\\\"10-percentile: {}\\\".format(num_runs_needed[num_trials // 10]))\\nprint(\\\"50-percentile: {}\\\".format(num_runs_needed[num_trials // 2]))\\nprint(\\\"90-percentile: {}\\\".format(num_runs_needed[num_trials - num_trials // 10]))\";\n",
       "                var nbb_cells = Jupyter.notebook.get_cells();\n",
       "                for (var i = 0; i < nbb_cells.length; ++i) {\n",
       "                    if (nbb_cells[i].input_prompt_number == nbb_cell_id) {\n",
       "                        if (nbb_cells[i].get_text() == nbb_unformatted_code) {\n",
       "                             nbb_cells[i].set_text(nbb_formatted_code);\n",
       "                        }\n",
       "                        break;\n",
       "                    }\n",
       "                }\n",
       "            }, 500);\n",
       "            "
      ],
      "text/plain": [
       "<IPython.core.display.Javascript object>"
      ]
     },
     "metadata": {},
     "output_type": "display_data"
    }
   ],
   "source": [
    "display(v)\n",
    "\n",
    "num_runs_needed.sort()\n",
    "\n",
    "print(\"10-percentile: {}\".format(num_runs_needed[num_trials // 10]))\n",
    "print(\"50-percentile: {}\".format(num_runs_needed[num_trials // 2]))\n",
    "print(\"90-percentile: {}\".format(num_runs_needed[num_trials - num_trials // 10]))"
   ]
  },
  {
   "cell_type": "markdown",
   "metadata": {},
   "source": [
    "## how many runs do I need to get a GOBLET with Elem Damage as main and CD&CR as good substat"
   ]
  },
  {
   "cell_type": "code",
   "execution_count": 33,
   "metadata": {},
   "outputs": [
    {
     "name": "stderr",
     "output_type": "stream",
     "text": [
      "100%|██████████| 500/500 [07:03<00:00,  1.18it/s]\n"
     ]
    },
    {
     "data": {
      "application/javascript": [
       "\n",
       "            setTimeout(function() {\n",
       "                var nbb_cell_id = 33;\n",
       "                var nbb_unformatted_code = \"num_runs_needed = []\\nnum_trials = 500\\n\\nscorer1 = ArtifactScore(\\n    stat_weights = {       \\n        Stat.CD: 1.0,\\n        Stat.CR: 2.0,\\n    }\\n)\\n# cd & cr in substats increased more than 3 times\\nsubstat_thd = 28\\nfor _ in tqdm(range(num_trials)):\\n    cnt = 0\\n    found = False\\n    while not found:\\n        cnt += 1\\n        for v in simulator.run():\\n            if v.ttype != ArtifactType.GOBLET or v.main_stat != Stat.ED:\\n                continue\\n            if scorer1(v) > substat_thd:\\n                num_runs_needed.append(cnt)\\n                found = True\\n                break       \";\n",
       "                var nbb_formatted_code = \"num_runs_needed = []\\nnum_trials = 500\\n\\nscorer1 = ArtifactScore(stat_weights={Stat.CD: 1.0, Stat.CR: 2.0,})\\n# cd & cr in substats increased more than 3 times\\nsubstat_thd = 28\\nfor _ in tqdm(range(num_trials)):\\n    cnt = 0\\n    found = False\\n    while not found:\\n        cnt += 1\\n        for v in simulator.run():\\n            if v.ttype != ArtifactType.GOBLET or v.main_stat != Stat.ED:\\n                continue\\n            if scorer1(v) > substat_thd:\\n                num_runs_needed.append(cnt)\\n                found = True\\n                break\";\n",
       "                var nbb_cells = Jupyter.notebook.get_cells();\n",
       "                for (var i = 0; i < nbb_cells.length; ++i) {\n",
       "                    if (nbb_cells[i].input_prompt_number == nbb_cell_id) {\n",
       "                        if (nbb_cells[i].get_text() == nbb_unformatted_code) {\n",
       "                             nbb_cells[i].set_text(nbb_formatted_code);\n",
       "                        }\n",
       "                        break;\n",
       "                    }\n",
       "                }\n",
       "            }, 500);\n",
       "            "
      ],
      "text/plain": [
       "<IPython.core.display.Javascript object>"
      ]
     },
     "metadata": {},
     "output_type": "display_data"
    }
   ],
   "source": [
    "num_runs_needed = []\n",
    "num_trials = 500\n",
    "\n",
    "scorer1 = ArtifactScore(\n",
    "    stat_weights = {       \n",
    "        Stat.CD: 1.0,\n",
    "        Stat.CR: 2.0,\n",
    "    }\n",
    ")\n",
    "# cd & cr in substats increased more than 3 times\n",
    "substat_thd = 28\n",
    "for _ in tqdm(range(num_trials)):\n",
    "    cnt = 0\n",
    "    found = False\n",
    "    while not found:\n",
    "        cnt += 1\n",
    "        for v in simulator.run():\n",
    "            if v.ttype != ArtifactType.GOBLET or v.main_stat != Stat.ED:\n",
    "                continue\n",
    "            if scorer1(v) > substat_thd:\n",
    "                num_runs_needed.append(cnt)\n",
    "                found = True\n",
    "                break       \n"
   ]
  },
  {
   "cell_type": "code",
   "execution_count": 34,
   "metadata": {},
   "outputs": [
    {
     "name": "stdout",
     "output_type": "stream",
     "text": [
      "===================\n",
      "空之杯:\n",
      "元素伤害%          :\t46.6\n",
      "-------------------\n",
      "生命值            :\t239.0\n",
      "攻击力%           :\t14.7\n",
      "暴击率%           :\t2.7\n",
      "暴击伤害%          :\t27.3\n",
      "===================\n",
      "10-percentile: 337\n",
      "50-percentile: 2263\n",
      "90-percentile: 8486\n"
     ]
    },
    {
     "data": {
      "application/javascript": [
       "\n",
       "            setTimeout(function() {\n",
       "                var nbb_cell_id = 34;\n",
       "                var nbb_unformatted_code = \"display(v)\\n\\nnum_runs_needed.sort()\\n\\nprint(\\\"10-percentile: {}\\\".format(num_runs_needed[num_trials // 10]))\\nprint(\\\"50-percentile: {}\\\".format(num_runs_needed[num_trials // 2]))\\nprint(\\\"90-percentile: {}\\\".format(num_runs_needed[num_trials - num_trials // 10]))\";\n",
       "                var nbb_formatted_code = \"display(v)\\n\\nnum_runs_needed.sort()\\n\\nprint(\\\"10-percentile: {}\\\".format(num_runs_needed[num_trials // 10]))\\nprint(\\\"50-percentile: {}\\\".format(num_runs_needed[num_trials // 2]))\\nprint(\\\"90-percentile: {}\\\".format(num_runs_needed[num_trials - num_trials // 10]))\";\n",
       "                var nbb_cells = Jupyter.notebook.get_cells();\n",
       "                for (var i = 0; i < nbb_cells.length; ++i) {\n",
       "                    if (nbb_cells[i].input_prompt_number == nbb_cell_id) {\n",
       "                        if (nbb_cells[i].get_text() == nbb_unformatted_code) {\n",
       "                             nbb_cells[i].set_text(nbb_formatted_code);\n",
       "                        }\n",
       "                        break;\n",
       "                    }\n",
       "                }\n",
       "            }, 500);\n",
       "            "
      ],
      "text/plain": [
       "<IPython.core.display.Javascript object>"
      ]
     },
     "metadata": {},
     "output_type": "display_data"
    }
   ],
   "source": [
    "display(v)\n",
    "\n",
    "num_runs_needed.sort()\n",
    "\n",
    "print(\"10-percentile: {}\".format(num_runs_needed[num_trials // 10]))\n",
    "print(\"50-percentile: {}\".format(num_runs_needed[num_trials // 2]))\n",
    "print(\"90-percentile: {}\".format(num_runs_needed[num_trials - num_trials // 10]))"
   ]
  },
  {
   "cell_type": "markdown",
   "metadata": {},
   "source": [
    "## how many runs do I need to get a FLOWER with CD&CR as good substat"
   ]
  },
  {
   "cell_type": "code",
   "execution_count": 35,
   "metadata": {},
   "outputs": [
    {
     "name": "stderr",
     "output_type": "stream",
     "text": [
      "100%|██████████| 500/500 [00:22<00:00, 21.85it/s]\n"
     ]
    },
    {
     "data": {
      "application/javascript": [
       "\n",
       "            setTimeout(function() {\n",
       "                var nbb_cell_id = 35;\n",
       "                var nbb_unformatted_code = \"num_runs_needed = []\\nnum_trials = 500\\n\\nscorer1 = ArtifactScore(\\n    stat_weights = {       \\n        Stat.CD: 1.0,\\n        Stat.CR: 2.0,\\n    }\\n)\\n# cd & cr in substats increased more than 3 times\\nsubstat_thd = 28\\nfor _ in tqdm(range(num_trials)):\\n    cnt = 0\\n    found = False\\n    while not found:\\n        cnt += 1\\n        for v in simulator.run():\\n            if v.ttype != ArtifactType.FLOWER:\\n                continue\\n            if scorer1(v) > substat_thd:\\n                num_runs_needed.append(cnt)\\n                found = True\\n                break       \";\n",
       "                var nbb_formatted_code = \"num_runs_needed = []\\nnum_trials = 500\\n\\nscorer1 = ArtifactScore(stat_weights={Stat.CD: 1.0, Stat.CR: 2.0,})\\n# cd & cr in substats increased more than 3 times\\nsubstat_thd = 28\\nfor _ in tqdm(range(num_trials)):\\n    cnt = 0\\n    found = False\\n    while not found:\\n        cnt += 1\\n        for v in simulator.run():\\n            if v.ttype != ArtifactType.FLOWER:\\n                continue\\n            if scorer1(v) > substat_thd:\\n                num_runs_needed.append(cnt)\\n                found = True\\n                break\";\n",
       "                var nbb_cells = Jupyter.notebook.get_cells();\n",
       "                for (var i = 0; i < nbb_cells.length; ++i) {\n",
       "                    if (nbb_cells[i].input_prompt_number == nbb_cell_id) {\n",
       "                        if (nbb_cells[i].get_text() == nbb_unformatted_code) {\n",
       "                             nbb_cells[i].set_text(nbb_formatted_code);\n",
       "                        }\n",
       "                        break;\n",
       "                    }\n",
       "                }\n",
       "            }, 500);\n",
       "            "
      ],
      "text/plain": [
       "<IPython.core.display.Javascript object>"
      ]
     },
     "metadata": {},
     "output_type": "display_data"
    }
   ],
   "source": [
    "num_runs_needed = []\n",
    "num_trials = 500\n",
    "\n",
    "scorer1 = ArtifactScore(\n",
    "    stat_weights = {       \n",
    "        Stat.CD: 1.0,\n",
    "        Stat.CR: 2.0,\n",
    "    }\n",
    ")\n",
    "# cd & cr in substats increased more than 3 times\n",
    "substat_thd = 28\n",
    "for _ in tqdm(range(num_trials)):\n",
    "    cnt = 0\n",
    "    found = False\n",
    "    while not found:\n",
    "        cnt += 1\n",
    "        for v in simulator.run():\n",
    "            if v.ttype != ArtifactType.FLOWER:\n",
    "                continue\n",
    "            if scorer1(v) > substat_thd:\n",
    "                num_runs_needed.append(cnt)\n",
    "                found = True\n",
    "                break       \n"
   ]
  },
  {
   "cell_type": "code",
   "execution_count": 36,
   "metadata": {},
   "outputs": [
    {
     "name": "stdout",
     "output_type": "stream",
     "text": [
      "===================\n",
      "生之花:\n",
      "生命值            :\t4780.0\n",
      "-------------------\n",
      "攻击力%           :\t11.1\n",
      "暴击率%           :\t7.8\n",
      "暴击伤害%          :\t14.1\n",
      "元素精通           :\t46.0\n",
      "===================\n",
      "10-percentile: 14\n",
      "50-percentile: 118\n",
      "90-percentile: 396\n"
     ]
    },
    {
     "data": {
      "application/javascript": [
       "\n",
       "            setTimeout(function() {\n",
       "                var nbb_cell_id = 36;\n",
       "                var nbb_unformatted_code = \"display(v)\\n\\nnum_runs_needed.sort()\\n\\nprint(\\\"10-percentile: {}\\\".format(num_runs_needed[num_trials // 10]))\\nprint(\\\"50-percentile: {}\\\".format(num_runs_needed[num_trials // 2]))\\nprint(\\\"90-percentile: {}\\\".format(num_runs_needed[num_trials - num_trials // 10]))\";\n",
       "                var nbb_formatted_code = \"display(v)\\n\\nnum_runs_needed.sort()\\n\\nprint(\\\"10-percentile: {}\\\".format(num_runs_needed[num_trials // 10]))\\nprint(\\\"50-percentile: {}\\\".format(num_runs_needed[num_trials // 2]))\\nprint(\\\"90-percentile: {}\\\".format(num_runs_needed[num_trials - num_trials // 10]))\";\n",
       "                var nbb_cells = Jupyter.notebook.get_cells();\n",
       "                for (var i = 0; i < nbb_cells.length; ++i) {\n",
       "                    if (nbb_cells[i].input_prompt_number == nbb_cell_id) {\n",
       "                        if (nbb_cells[i].get_text() == nbb_unformatted_code) {\n",
       "                             nbb_cells[i].set_text(nbb_formatted_code);\n",
       "                        }\n",
       "                        break;\n",
       "                    }\n",
       "                }\n",
       "            }, 500);\n",
       "            "
      ],
      "text/plain": [
       "<IPython.core.display.Javascript object>"
      ]
     },
     "metadata": {},
     "output_type": "display_data"
    }
   ],
   "source": [
    "display(v)\n",
    "\n",
    "num_runs_needed.sort()\n",
    "\n",
    "print(\"10-percentile: {}\".format(num_runs_needed[num_trials // 10]))\n",
    "print(\"50-percentile: {}\".format(num_runs_needed[num_trials // 2]))\n",
    "print(\"90-percentile: {}\".format(num_runs_needed[num_trials - num_trials // 10]))"
   ]
  },
  {
   "cell_type": "code",
   "execution_count": null,
   "metadata": {},
   "outputs": [],
   "source": []
  }
 ],
 "metadata": {
  "kernelspec": {
   "display_name": "Python 3",
   "language": "python",
   "name": "python3"
  },
  "language_info": {
   "codemirror_mode": {
    "name": "ipython",
    "version": 3
   },
   "file_extension": ".py",
   "mimetype": "text/x-python",
   "name": "python",
   "nbconvert_exporter": "python",
   "pygments_lexer": "ipython3",
   "version": "3.7.4"
  }
 },
 "nbformat": 4,
 "nbformat_minor": 2
}
